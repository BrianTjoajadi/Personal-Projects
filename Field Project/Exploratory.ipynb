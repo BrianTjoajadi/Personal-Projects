{
 "cells": [
  {
   "cell_type": "markdown",
   "metadata": {},
   "source": [
    "# Heatmaps"
   ]
  },
  {
   "cell_type": "code",
   "execution_count": null,
   "metadata": {},
   "outputs": [],
   "source": [
    "import pandas as pd\n",
    "import numpy as np\n",
    "import matplotlib as plt\n",
    "import seaborn as sns\n",
    "from statsmodels.stats.outliers_influence import variance_inflation_factor \n",
    "%matplotlib inline"
   ]
  },
  {
   "cell_type": "code",
   "execution_count": null,
   "metadata": {},
   "outputs": [],
   "source": [
    "#Read all 4 datasets into python\n",
    "\n",
    "\"\"\"To join, or not to join, that is the question...\"\"\"\n",
    "\n",
    "met = pd.read_csv(\"C:/Users/btjoa/OneDrive/Desktop/Babson/Grad/Field Project/Data/Initial Drop/Store Business and Scheduling Metrics 2.csv\")\n",
    "log = pd.read_csv(\"C:/Users/btjoa/OneDrive/Desktop/Babson/Grad/Field Project/Data/Initial Drop/Logons 2.csv\")\n",
    "# exc = pd.read_csv(\"C:/Users/btjoa/OneDrive/Desktop/Babson/Grad/Field Project/Data/Initial Drop/Executions.csv\")\n",
    "# walk = pd.read_csv(\"C:/Users/btjoa/OneDrive/Desktop/Babson/Grad/Field Project/Data/Initial Drop/Store Walks.csv\")"
   ]
  },
  {
   "cell_type": "code",
   "execution_count": null,
   "metadata": {},
   "outputs": [],
   "source": [
    "met = met.drop(\"Average Efficiency\", axis = 1)"
   ]
  },
  {
   "cell_type": "code",
   "execution_count": null,
   "metadata": {},
   "outputs": [],
   "source": [
    "met = met.drop(\"Week No\", axis = 1)"
   ]
  },
  {
   "cell_type": "code",
   "execution_count": null,
   "metadata": {},
   "outputs": [],
   "source": [
    "log['Logons'] = log['Logons'].apply(pd.to_numeric, args=('coerce',))\n",
    "log.isnull().values.any()"
   ]
  },
  {
   "cell_type": "code",
   "execution_count": null,
   "metadata": {},
   "outputs": [],
   "source": [
    "log[log.isnull().any(axis=1)]"
   ]
  },
  {
   "cell_type": "code",
   "execution_count": null,
   "metadata": {},
   "outputs": [],
   "source": [
    "log['Logons'] = log['Logons'].replace(np.nan, 0)"
   ]
  },
  {
   "cell_type": "code",
   "execution_count": null,
   "metadata": {},
   "outputs": [],
   "source": [
    "met_log = met.merge(log, how='left', on=[\"Str Id\", \"Week Start Date\"])"
   ]
  },
  {
   "cell_type": "code",
   "execution_count": null,
   "metadata": {},
   "outputs": [],
   "source": [
    "met_log.isnull().values.any()"
   ]
  },
  {
   "cell_type": "code",
   "execution_count": null,
   "metadata": {},
   "outputs": [],
   "source": [
    "met_log.head()"
   ]
  },
  {
   "cell_type": "code",
   "execution_count": null,
   "metadata": {},
   "outputs": [],
   "source": [
    "met_log[met_log.isnull().any(axis=1)]"
   ]
  },
  {
   "cell_type": "markdown",
   "metadata": {},
   "source": [
    "1. original heatmap\n",
    "2. remove logons and efficiency\n",
    "3. remove forecasts\n",
    "4. heatmap for with composite variables"
   ]
  },
  {
   "cell_type": "markdown",
   "metadata": {},
   "source": [
    "# Original Heatmap"
   ]
  },
  {
   "cell_type": "code",
   "execution_count": null,
   "metadata": {},
   "outputs": [],
   "source": [
    "plt.pyplot.figure(figsize=(14,8))\n",
    "sns.heatmap(met_log.corr(), cmap=\"Blues\", annot = True) #change color using cmap"
   ]
  },
  {
   "cell_type": "markdown",
   "metadata": {},
   "source": [
    "# Logons and Efficiency removed (and low correlation)"
   ]
  },
  {
   "cell_type": "code",
   "execution_count": null,
   "metadata": {},
   "outputs": [],
   "source": [
    "met_copy = met.drop(\"Sched Efficiency MGR\", axis = 1)"
   ]
  },
  {
   "cell_type": "code",
   "execution_count": null,
   "metadata": {},
   "outputs": [],
   "source": [
    "met_copy = met.drop(\"Sched Efficiency SYS\", axis = 1)"
   ]
  },
  {
   "cell_type": "code",
   "execution_count": null,
   "metadata": {},
   "outputs": [],
   "source": [
    "met_copy[\"Over/Understaffing\"] = met_copy[\"Sched Hrs\"] - met_copy[\"Act Hrs\"]"
   ]
  },
  {
   "cell_type": "code",
   "execution_count": null,
   "metadata": {},
   "outputs": [],
   "source": [
    "met_copy.head()"
   ]
  },
  {
   "cell_type": "code",
   "execution_count": null,
   "metadata": {},
   "outputs": [],
   "source": [
    "corr = met_copy.corr()\n",
    "kot = corr[abs(corr)<=.98]\n",
    "kot = kot[abs(kot)>=.4]\n",
    "plt.pyplot.figure(figsize=(14,8))\n",
    "sns.heatmap(kot, cmap=\"Blues\", annot = True) "
   ]
  },
  {
   "cell_type": "markdown",
   "metadata": {},
   "source": [
    "# Forecasts Removed "
   ]
  },
  {
   "cell_type": "code",
   "execution_count": null,
   "metadata": {},
   "outputs": [],
   "source": [
    "met_no_fcst = met_copy.drop(\"Fcst Sales\", axis = 1)"
   ]
  },
  {
   "cell_type": "code",
   "execution_count": null,
   "metadata": {},
   "outputs": [],
   "source": [
    "met_no_fcst = met_no_fcst.drop(\"Fcst Txns\", axis = 1)"
   ]
  },
  {
   "cell_type": "code",
   "execution_count": null,
   "metadata": {},
   "outputs": [],
   "source": [
    "met_no_fcst = met_no_fcst.drop(\"Fcst Items\", axis = 1)"
   ]
  },
  {
   "cell_type": "code",
   "execution_count": null,
   "metadata": {},
   "outputs": [],
   "source": [
    "met_no_fcst = met_no_fcst.drop(\"Fcst Labor Cost\", axis = 1)"
   ]
  },
  {
   "cell_type": "code",
   "execution_count": null,
   "metadata": {},
   "outputs": [],
   "source": [
    "met_no_fcst = met_no_fcst.drop(\"Fcst Hrs\", axis = 1)"
   ]
  },
  {
   "cell_type": "code",
   "execution_count": null,
   "metadata": {},
   "outputs": [],
   "source": [
    "met_no_fcst.head()"
   ]
  },
  {
   "cell_type": "code",
   "execution_count": null,
   "metadata": {},
   "outputs": [],
   "source": [
    "corr = met_no_fcst.corr()\n",
    "kot = corr[abs(corr)<=.98]\n",
    "kot = kot[abs(kot)>=.4]\n",
    "plt.pyplot.figure(figsize=(14,8))\n",
    "sns.heatmap(kot, cmap=\"BuPu\", annot = True) "
   ]
  },
  {
   "cell_type": "code",
   "execution_count": null,
   "metadata": {},
   "outputs": [],
   "source": [
    "m_c = met_no_fcst.copy()\n",
    "m_c"
   ]
  },
  {
   "cell_type": "code",
   "execution_count": null,
   "metadata": {},
   "outputs": [],
   "source": [
    "m_c = m_c.drop(\"Sched Shifts SYS\", axis = 1)"
   ]
  },
  {
   "cell_type": "code",
   "execution_count": null,
   "metadata": {},
   "outputs": [],
   "source": [
    "m_c = m_c.drop(\"Sched Shifts MGR\", axis = 1)"
   ]
  },
  {
   "cell_type": "code",
   "execution_count": null,
   "metadata": {},
   "outputs": [],
   "source": [
    "m_c = m_c.drop(\"Sched Efficiency MGR\", axis = 1)"
   ]
  },
  {
   "cell_type": "code",
   "execution_count": null,
   "metadata": {},
   "outputs": [],
   "source": [
    "m_c = m_c.drop(\"Sched Edits\", axis = 1)"
   ]
  },
  {
   "cell_type": "code",
   "execution_count": null,
   "metadata": {},
   "outputs": [],
   "source": [
    "m_c = m_c.drop(\"Sched Hrs\", axis = 1)"
   ]
  },
  {
   "cell_type": "code",
   "execution_count": null,
   "metadata": {},
   "outputs": [],
   "source": [
    "corr = m_c.corr()\n",
    "kot = corr[abs(corr)<=.98]\n",
    "kot = kot[abs(kot)>=.4]\n",
    "plt.pyplot.figure(figsize=(14,8))\n",
    "sns.heatmap(kot, cmap = \"Blues\", annot = True) "
   ]
  },
  {
   "cell_type": "markdown",
   "metadata": {},
   "source": [
    "# Aggregating Highly Correlated Variables (Feature Reduction)\n"
   ]
  },
  {
   "cell_type": "code",
   "execution_count": null,
   "metadata": {},
   "outputs": [],
   "source": [
    "met_c = met_no_fcst.copy()\n",
    "met_c.head()"
   ]
  },
  {
   "cell_type": "code",
   "execution_count": null,
   "metadata": {},
   "outputs": [],
   "source": [
    "met_c.isnull().values.any()"
   ]
  },
  {
   "cell_type": "code",
   "execution_count": null,
   "metadata": {},
   "outputs": [],
   "source": [
    "# Act Sales vs Act Txns\n",
    "# met_copy[\"Act Sales/Act Txns\"] = met_copy[\"Act Sales\"]/met_copy[\"Act Txns\"]"
   ]
  },
  {
   "cell_type": "code",
   "execution_count": null,
   "metadata": {},
   "outputs": [],
   "source": [
    "# Act Sales vs Act Items\n",
    "met_c[\"Act Sales/Act Items\"] = met_copy[\"Act Sales\"]/met_copy[\"Act Items\"]"
   ]
  },
  {
   "cell_type": "code",
   "execution_count": null,
   "metadata": {},
   "outputs": [],
   "source": [
    "# Act Sales vs Act Hrs\n",
    "met_c[\"Act Sales/Act Hrs\"] = met_copy[\"Act Sales\"]/met_copy[\"Act Hrs\"]"
   ]
  },
  {
   "cell_type": "code",
   "execution_count": null,
   "metadata": {},
   "outputs": [],
   "source": [
    "# Act Sales vs Act LC\n",
    "met_c[\"Act Sales/Act Labor Cost\"] = met_copy[\"Act Sales\"]/met_copy[\"Act Labor Cost\"]"
   ]
  },
  {
   "cell_type": "code",
   "execution_count": null,
   "metadata": {},
   "outputs": [],
   "source": [
    "# Act Txns vs Act Items\n",
    "met_c[\"Act Txns/Act Items\"] = met_copy[\"Act Txns\"]/met_copy[\"Act Items\"]"
   ]
  },
  {
   "cell_type": "code",
   "execution_count": null,
   "metadata": {},
   "outputs": [],
   "source": [
    "# Act Sales vs Act Hrs\n",
    "met_c[\"Act Txns/Act Hrs\"] = met_copy[\"Act Txns\"]/met_copy[\"Act Hrs\"]"
   ]
  },
  {
   "cell_type": "code",
   "execution_count": null,
   "metadata": {},
   "outputs": [],
   "source": [
    "# Act Txns vs Act LC\n",
    "met_c[\"Act Txns/Act Labor Cost\"] = met_copy[\"Act Txns\"]/met_copy[\"Act Labor Cost\"]"
   ]
  },
  {
   "cell_type": "code",
   "execution_count": null,
   "metadata": {},
   "outputs": [],
   "source": [
    "# Act Items vs Act Hrs\n",
    "met_c[\"Act Items/Act Hrs\"] = met_copy[\"Act Items\"]/met_copy[\"Act Hrs\"]"
   ]
  },
  {
   "cell_type": "code",
   "execution_count": null,
   "metadata": {},
   "outputs": [],
   "source": [
    "# Act Items vs Act LC\n",
    "met_c[\"Act Items/Act Labor Cost\"] = met_copy[\"Act Items\"]/met_copy[\"Act Labor Cost\"]"
   ]
  },
  {
   "cell_type": "code",
   "execution_count": null,
   "metadata": {},
   "outputs": [],
   "source": [
    "# Act Hrs vs Sched Edits\n",
    "met_c[\"Act Hrs/Sched Edits\"] = met_copy[\"Act Hrs\"]/met_copy[\"Sched Edits\"]"
   ]
  },
  {
   "cell_type": "code",
   "execution_count": null,
   "metadata": {},
   "outputs": [],
   "source": [
    "corr_2 = met_copy.corr()\n",
    "kot_2 = corr_2[abs(corr_2)<=.98]\n",
    "kot_2 = kot_2[abs(kot_2)>=.4]\n",
    "plt.pyplot.figure(figsize=(14,8))\n",
    "sns.heatmap(kot_2, cmap=\"BuPu\", annot = True) "
   ]
  },
  {
   "cell_type": "code",
   "execution_count": null,
   "metadata": {},
   "outputs": [],
   "source": [
    "met_copy_2 = met_c[[\"Act Sales/Act Items\", \"Act Sales/Act Hrs\", \"Act Sales/Act Labor Cost\", \"Act Txns/Act Items\", \"Act Txns/Act Hrs\", \"Act Txns/Act Labor Cost\", \"Act Items/Act Hrs\", \"Act Items/Act Labor Cost\", \"Over/Understaffing\"]].copy()"
   ]
  },
  {
   "cell_type": "code",
   "execution_count": null,
   "metadata": {},
   "outputs": [],
   "source": [
    "corr_3 = met_copy_2.corr()\n",
    "kot_3 = corr_3[abs(corr_3)<=.98]\n",
    "kot_3 = kot_3[abs(kot_3)>=.4]\n",
    "plt.pyplot.figure(figsize=(14,8))\n",
    "sns.heatmap(kot_3, cmap=\"Blues\", annot = True) "
   ]
  },
  {
   "cell_type": "markdown",
   "metadata": {},
   "source": [
    "# K-Means"
   ]
  },
  {
   "cell_type": "code",
   "execution_count": null,
   "metadata": {},
   "outputs": [],
   "source": [
    "import numpy as np\n",
    "import pandas as pd\n",
    "import matplotlib.pyplot as plt\n",
    "from sklearn.datasets.samples_generator import make_blobs\n",
    "from sklearn.cluster import KMeans"
   ]
  },
  {
   "cell_type": "code",
   "execution_count": null,
   "metadata": {},
   "outputs": [],
   "source": [
    "df = pd.read_csv(\"C:/Users/btjoa/OneDrive/Desktop/Babson/Grad/Field Project/Data/Initial Drop/Store Business and Scheduling Metrics 2.csv\")"
   ]
  },
  {
   "cell_type": "code",
   "execution_count": null,
   "metadata": {},
   "outputs": [],
   "source": [
    "#Removing useless variables\n",
    "df = "
   ]
  },
  {
   "cell_type": "code",
   "execution_count": null,
   "metadata": {},
   "outputs": [],
   "source": [
    "import math\n",
    "n = [x for x in range(1,8)]\n",
    "\n",
    "n = [math.sqrt(i) for i in n]\n",
    "\n",
    "print(n)"
   ]
  },
  {
   "cell_type": "code",
   "execution_count": null,
   "metadata": {},
   "outputs": [],
   "source": []
  }
 ],
 "metadata": {
  "kernelspec": {
   "display_name": "PyCharm (Programming in Python)",
   "language": "python",
   "name": "pycharm-9c928b66"
  },
  "language_info": {
   "codemirror_mode": {
    "name": "ipython",
    "version": 3
   },
   "file_extension": ".py",
   "mimetype": "text/x-python",
   "name": "python",
   "nbconvert_exporter": "python",
   "pygments_lexer": "ipython3",
   "version": "3.8.3"
  }
 },
 "nbformat": 4,
 "nbformat_minor": 4
}
