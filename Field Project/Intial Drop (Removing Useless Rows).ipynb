{
 "cells": [
  {
   "cell_type": "code",
   "execution_count": 2,
   "metadata": {},
   "outputs": [],
   "source": [
    "import pandas as pd"
   ]
  },
  {
   "cell_type": "markdown",
   "metadata": {},
   "source": [
    "# Scheduling Metrics"
   ]
  },
  {
   "cell_type": "code",
   "execution_count": 4,
   "metadata": {},
   "outputs": [],
   "source": [
    "data = pd.read_csv(\"C:/Users/btjoa/OneDrive/Desktop/Babson/Grad/Field Project/Data/Initial Drop/Store Business and Scheduling Metrics 2.csv\")"
   ]
  },
  {
   "cell_type": "code",
   "execution_count": 5,
   "metadata": {},
   "outputs": [
    {
     "data": {
      "text/plain": [
       "(16469, 22)"
      ]
     },
     "execution_count": 5,
     "metadata": {},
     "output_type": "execute_result"
    }
   ],
   "source": [
    "data.head(5)\n",
    "data.shape"
   ]
  },
  {
   "cell_type": "code",
   "execution_count": 6,
   "metadata": {
    "scrolled": true
   },
   "outputs": [
    {
     "data": {
      "text/plain": [
       "False"
      ]
     },
     "execution_count": 6,
     "metadata": {},
     "output_type": "execute_result"
    }
   ],
   "source": [
    "data.isnull().values.any()"
   ]
  },
  {
   "cell_type": "code",
   "execution_count": 7,
   "metadata": {},
   "outputs": [
    {
     "data": {
      "text/plain": [
       "(16469, 22)"
      ]
     },
     "execution_count": 7,
     "metadata": {},
     "output_type": "execute_result"
    }
   ],
   "source": [
    "#Ask how they think it should be done\n",
    "data = data[data[\"Fcst Sales\"]> 0]\n",
    "data.shape"
   ]
  },
  {
   "cell_type": "code",
   "execution_count": 8,
   "metadata": {},
   "outputs": [
    {
     "data": {
      "text/html": [
       "<div>\n",
       "<style scoped>\n",
       "    .dataframe tbody tr th:only-of-type {\n",
       "        vertical-align: middle;\n",
       "    }\n",
       "\n",
       "    .dataframe tbody tr th {\n",
       "        vertical-align: top;\n",
       "    }\n",
       "\n",
       "    .dataframe thead th {\n",
       "        text-align: right;\n",
       "    }\n",
       "</style>\n",
       "<table border=\"1\" class=\"dataframe\">\n",
       "  <thead>\n",
       "    <tr style=\"text-align: right;\">\n",
       "      <th></th>\n",
       "      <th>Str Id</th>\n",
       "      <th>Dist Id</th>\n",
       "      <th>Week No</th>\n",
       "      <th>Week Start Date</th>\n",
       "      <th>Fcst Sales</th>\n",
       "      <th>Fcst Txns</th>\n",
       "      <th>Fcst Items</th>\n",
       "      <th>Fcst Hrs</th>\n",
       "      <th>Fcst Labor Cost</th>\n",
       "      <th>Sched Hrs</th>\n",
       "      <th>...</th>\n",
       "      <th>Act Txns</th>\n",
       "      <th>Act Items</th>\n",
       "      <th>Act Hrs</th>\n",
       "      <th>Act Labor Cost</th>\n",
       "      <th>Sched Shifts SYS</th>\n",
       "      <th>Sched Efficiency SYS</th>\n",
       "      <th>Sched Shifts MGR</th>\n",
       "      <th>Sched Efficiency MGR</th>\n",
       "      <th>Sched Edits</th>\n",
       "      <th>Average Efficiency</th>\n",
       "    </tr>\n",
       "  </thead>\n",
       "  <tbody>\n",
       "    <tr>\n",
       "      <th>0</th>\n",
       "      <td>S33688</td>\n",
       "      <td>D864</td>\n",
       "      <td>48</td>\n",
       "      <td>11/22/2020</td>\n",
       "      <td>827</td>\n",
       "      <td>56</td>\n",
       "      <td>857</td>\n",
       "      <td>159.30</td>\n",
       "      <td>2752</td>\n",
       "      <td>79.36</td>\n",
       "      <td>...</td>\n",
       "      <td>93</td>\n",
       "      <td>130</td>\n",
       "      <td>41.55</td>\n",
       "      <td>1071</td>\n",
       "      <td>9</td>\n",
       "      <td>0.56</td>\n",
       "      <td>9</td>\n",
       "      <td>0.56</td>\n",
       "      <td>0</td>\n",
       "      <td>0.56</td>\n",
       "    </tr>\n",
       "    <tr>\n",
       "      <th>1</th>\n",
       "      <td>S33688</td>\n",
       "      <td>D864</td>\n",
       "      <td>47</td>\n",
       "      <td>11/15/2020</td>\n",
       "      <td>1121</td>\n",
       "      <td>86</td>\n",
       "      <td>956</td>\n",
       "      <td>179.72</td>\n",
       "      <td>3104</td>\n",
       "      <td>96.28</td>\n",
       "      <td>...</td>\n",
       "      <td>116</td>\n",
       "      <td>457</td>\n",
       "      <td>50.92</td>\n",
       "      <td>1071</td>\n",
       "      <td>12</td>\n",
       "      <td>0.67</td>\n",
       "      <td>12</td>\n",
       "      <td>0.67</td>\n",
       "      <td>0</td>\n",
       "      <td>0.67</td>\n",
       "    </tr>\n",
       "    <tr>\n",
       "      <th>2</th>\n",
       "      <td>S33688</td>\n",
       "      <td>D864</td>\n",
       "      <td>37</td>\n",
       "      <td>9/6/2020</td>\n",
       "      <td>3016</td>\n",
       "      <td>51</td>\n",
       "      <td>1274</td>\n",
       "      <td>133.60</td>\n",
       "      <td>2320</td>\n",
       "      <td>96.28</td>\n",
       "      <td>...</td>\n",
       "      <td>59</td>\n",
       "      <td>59</td>\n",
       "      <td>30.56</td>\n",
       "      <td>1198</td>\n",
       "      <td>12</td>\n",
       "      <td>0.70</td>\n",
       "      <td>12</td>\n",
       "      <td>0.70</td>\n",
       "      <td>0</td>\n",
       "      <td>0.70</td>\n",
       "    </tr>\n",
       "    <tr>\n",
       "      <th>3</th>\n",
       "      <td>S33688</td>\n",
       "      <td>D864</td>\n",
       "      <td>46</td>\n",
       "      <td>11/8/2020</td>\n",
       "      <td>3130</td>\n",
       "      <td>91</td>\n",
       "      <td>1105</td>\n",
       "      <td>179.72</td>\n",
       "      <td>3104</td>\n",
       "      <td>96.28</td>\n",
       "      <td>...</td>\n",
       "      <td>124</td>\n",
       "      <td>227</td>\n",
       "      <td>39.96</td>\n",
       "      <td>1192</td>\n",
       "      <td>12</td>\n",
       "      <td>0.66</td>\n",
       "      <td>12</td>\n",
       "      <td>0.66</td>\n",
       "      <td>0</td>\n",
       "      <td>0.66</td>\n",
       "    </tr>\n",
       "    <tr>\n",
       "      <th>4</th>\n",
       "      <td>S33688</td>\n",
       "      <td>D864</td>\n",
       "      <td>41</td>\n",
       "      <td>10/4/2020</td>\n",
       "      <td>3148</td>\n",
       "      <td>91</td>\n",
       "      <td>1160</td>\n",
       "      <td>134.12</td>\n",
       "      <td>2317</td>\n",
       "      <td>96.28</td>\n",
       "      <td>...</td>\n",
       "      <td>60</td>\n",
       "      <td>63</td>\n",
       "      <td>60.66</td>\n",
       "      <td>1183</td>\n",
       "      <td>12</td>\n",
       "      <td>0.65</td>\n",
       "      <td>12</td>\n",
       "      <td>0.65</td>\n",
       "      <td>0</td>\n",
       "      <td>0.65</td>\n",
       "    </tr>\n",
       "  </tbody>\n",
       "</table>\n",
       "<p>5 rows × 22 columns</p>\n",
       "</div>"
      ],
      "text/plain": [
       "   Str Id Dist Id  Week No Week Start Date  Fcst Sales  Fcst Txns  Fcst Items  \\\n",
       "0  S33688    D864       48      11/22/2020         827         56         857   \n",
       "1  S33688    D864       47      11/15/2020        1121         86         956   \n",
       "2  S33688    D864       37        9/6/2020        3016         51        1274   \n",
       "3  S33688    D864       46       11/8/2020        3130         91        1105   \n",
       "4  S33688    D864       41       10/4/2020        3148         91        1160   \n",
       "\n",
       "   Fcst Hrs  Fcst Labor Cost  Sched Hrs  ...  Act Txns  Act Items  Act Hrs  \\\n",
       "0    159.30             2752      79.36  ...        93        130    41.55   \n",
       "1    179.72             3104      96.28  ...       116        457    50.92   \n",
       "2    133.60             2320      96.28  ...        59         59    30.56   \n",
       "3    179.72             3104      96.28  ...       124        227    39.96   \n",
       "4    134.12             2317      96.28  ...        60         63    60.66   \n",
       "\n",
       "   Act Labor Cost  Sched Shifts SYS  Sched Efficiency SYS  Sched Shifts MGR  \\\n",
       "0            1071                 9                  0.56                 9   \n",
       "1            1071                12                  0.67                12   \n",
       "2            1198                12                  0.70                12   \n",
       "3            1192                12                  0.66                12   \n",
       "4            1183                12                  0.65                12   \n",
       "\n",
       "   Sched Efficiency MGR  Sched Edits  Average Efficiency  \n",
       "0                  0.56            0                0.56  \n",
       "1                  0.67            0                0.67  \n",
       "2                  0.70            0                0.70  \n",
       "3                  0.66            0                0.66  \n",
       "4                  0.65            0                0.65  \n",
       "\n",
       "[5 rows x 22 columns]"
      ]
     },
     "execution_count": 8,
     "metadata": {},
     "output_type": "execute_result"
    }
   ],
   "source": [
    "data = data[data[\"Act Items\"]> 0]\n",
    "data = data[data[\"Act Sales\"]> 0]\n",
    "data.head()"
   ]
  },
  {
   "cell_type": "code",
   "execution_count": 9,
   "metadata": {},
   "outputs": [
    {
     "data": {
      "text/plain": [
       "(16469, 22)"
      ]
     },
     "execution_count": 9,
     "metadata": {},
     "output_type": "execute_result"
    }
   ],
   "source": [
    "data = data[data[\"Fcst Hrs\"]> 0]\n",
    "data.shape"
   ]
  },
  {
   "cell_type": "code",
   "execution_count": 10,
   "metadata": {},
   "outputs": [],
   "source": [
    "data = data[data[\"Act Txns\"]>0]"
   ]
  },
  {
   "cell_type": "code",
   "execution_count": 11,
   "metadata": {},
   "outputs": [],
   "source": [
    "data[\"Average Efficiency\"] = (data[\"Sched Efficiency MGR\"] + data[\"Sched Efficiency SYS\"])/2"
   ]
  },
  {
   "cell_type": "code",
   "execution_count": 9,
   "metadata": {},
   "outputs": [
    {
     "data": {
      "text/html": [
       "<div>\n",
       "<style scoped>\n",
       "    .dataframe tbody tr th:only-of-type {\n",
       "        vertical-align: middle;\n",
       "    }\n",
       "\n",
       "    .dataframe tbody tr th {\n",
       "        vertical-align: top;\n",
       "    }\n",
       "\n",
       "    .dataframe thead th {\n",
       "        text-align: right;\n",
       "    }\n",
       "</style>\n",
       "<table border=\"1\" class=\"dataframe\">\n",
       "  <thead>\n",
       "    <tr style=\"text-align: right;\">\n",
       "      <th></th>\n",
       "      <th>Str Id</th>\n",
       "      <th>Dist Id</th>\n",
       "      <th>Week No</th>\n",
       "      <th>Week Start Date</th>\n",
       "      <th>Fcst Sales</th>\n",
       "      <th>Fcst Txns</th>\n",
       "      <th>Fcst Items</th>\n",
       "      <th>Fcst Hrs</th>\n",
       "      <th>Fcst Labor Cost</th>\n",
       "      <th>Sched Hrs</th>\n",
       "      <th>...</th>\n",
       "      <th>Act Txns</th>\n",
       "      <th>Act Items</th>\n",
       "      <th>Act Hrs</th>\n",
       "      <th>Act Labor Cost</th>\n",
       "      <th>Sched Shifts SYS</th>\n",
       "      <th>Sched Efficiency SYS</th>\n",
       "      <th>Sched Shifts MGR</th>\n",
       "      <th>Sched Efficiency MGR</th>\n",
       "      <th>Sched Edits</th>\n",
       "      <th>Average Efficiency</th>\n",
       "    </tr>\n",
       "  </thead>\n",
       "  <tbody>\n",
       "    <tr>\n",
       "      <th>17</th>\n",
       "      <td>S33688</td>\n",
       "      <td>D864</td>\n",
       "      <td>44</td>\n",
       "      <td>10/25/2020</td>\n",
       "      <td>3223.0</td>\n",
       "      <td>86.0</td>\n",
       "      <td>1353.0</td>\n",
       "      <td>179.72</td>\n",
       "      <td>3104.0</td>\n",
       "      <td>96.28</td>\n",
       "      <td>...</td>\n",
       "      <td>30.0</td>\n",
       "      <td>42.0</td>\n",
       "      <td>46.48</td>\n",
       "      <td>1133.0</td>\n",
       "      <td>12.0</td>\n",
       "      <td>0.68</td>\n",
       "      <td>12.0</td>\n",
       "      <td>0.68</td>\n",
       "      <td>0.0</td>\n",
       "      <td>0.68</td>\n",
       "    </tr>\n",
       "    <tr>\n",
       "      <th>18</th>\n",
       "      <td>S33688</td>\n",
       "      <td>D864</td>\n",
       "      <td>37</td>\n",
       "      <td>9/6/2020</td>\n",
       "      <td>3016.0</td>\n",
       "      <td>51.0</td>\n",
       "      <td>1274.0</td>\n",
       "      <td>133.60</td>\n",
       "      <td>2320.0</td>\n",
       "      <td>96.28</td>\n",
       "      <td>...</td>\n",
       "      <td>59.0</td>\n",
       "      <td>59.0</td>\n",
       "      <td>30.56</td>\n",
       "      <td>1198.0</td>\n",
       "      <td>12.0</td>\n",
       "      <td>0.70</td>\n",
       "      <td>12.0</td>\n",
       "      <td>0.70</td>\n",
       "      <td>0.0</td>\n",
       "      <td>0.70</td>\n",
       "    </tr>\n",
       "    <tr>\n",
       "      <th>19</th>\n",
       "      <td>S33688</td>\n",
       "      <td>D864</td>\n",
       "      <td>41</td>\n",
       "      <td>10/4/2020</td>\n",
       "      <td>3148.0</td>\n",
       "      <td>91.0</td>\n",
       "      <td>1160.0</td>\n",
       "      <td>134.12</td>\n",
       "      <td>2317.0</td>\n",
       "      <td>96.28</td>\n",
       "      <td>...</td>\n",
       "      <td>60.0</td>\n",
       "      <td>63.0</td>\n",
       "      <td>60.66</td>\n",
       "      <td>1183.0</td>\n",
       "      <td>12.0</td>\n",
       "      <td>0.65</td>\n",
       "      <td>12.0</td>\n",
       "      <td>0.65</td>\n",
       "      <td>0.0</td>\n",
       "      <td>0.65</td>\n",
       "    </tr>\n",
       "    <tr>\n",
       "      <th>22</th>\n",
       "      <td>S33688</td>\n",
       "      <td>D864</td>\n",
       "      <td>36</td>\n",
       "      <td>8/30/2020</td>\n",
       "      <td>3166.0</td>\n",
       "      <td>98.0</td>\n",
       "      <td>1197.0</td>\n",
       "      <td>134.56</td>\n",
       "      <td>2336.0</td>\n",
       "      <td>76.44</td>\n",
       "      <td>...</td>\n",
       "      <td>79.0</td>\n",
       "      <td>86.0</td>\n",
       "      <td>52.46</td>\n",
       "      <td>1071.0</td>\n",
       "      <td>12.0</td>\n",
       "      <td>0.54</td>\n",
       "      <td>12.0</td>\n",
       "      <td>0.54</td>\n",
       "      <td>0.0</td>\n",
       "      <td>0.54</td>\n",
       "    </tr>\n",
       "    <tr>\n",
       "      <th>23</th>\n",
       "      <td>S33688</td>\n",
       "      <td>D864</td>\n",
       "      <td>42</td>\n",
       "      <td>10/11/2020</td>\n",
       "      <td>3162.0</td>\n",
       "      <td>92.0</td>\n",
       "      <td>1332.0</td>\n",
       "      <td>134.12</td>\n",
       "      <td>2317.0</td>\n",
       "      <td>96.28</td>\n",
       "      <td>...</td>\n",
       "      <td>61.0</td>\n",
       "      <td>93.0</td>\n",
       "      <td>51.58</td>\n",
       "      <td>1071.0</td>\n",
       "      <td>12.0</td>\n",
       "      <td>0.65</td>\n",
       "      <td>12.0</td>\n",
       "      <td>0.65</td>\n",
       "      <td>0.0</td>\n",
       "      <td>0.65</td>\n",
       "    </tr>\n",
       "  </tbody>\n",
       "</table>\n",
       "<p>5 rows × 22 columns</p>\n",
       "</div>"
      ],
      "text/plain": [
       "    Str Id Dist Id  Week No Week Start Date  Fcst Sales  Fcst Txns  \\\n",
       "17  S33688    D864       44      10/25/2020      3223.0       86.0   \n",
       "18  S33688    D864       37        9/6/2020      3016.0       51.0   \n",
       "19  S33688    D864       41       10/4/2020      3148.0       91.0   \n",
       "22  S33688    D864       36       8/30/2020      3166.0       98.0   \n",
       "23  S33688    D864       42      10/11/2020      3162.0       92.0   \n",
       "\n",
       "    Fcst Items  Fcst Hrs  Fcst Labor Cost  Sched Hrs  ...  Act Txns  \\\n",
       "17      1353.0    179.72           3104.0      96.28  ...      30.0   \n",
       "18      1274.0    133.60           2320.0      96.28  ...      59.0   \n",
       "19      1160.0    134.12           2317.0      96.28  ...      60.0   \n",
       "22      1197.0    134.56           2336.0      76.44  ...      79.0   \n",
       "23      1332.0    134.12           2317.0      96.28  ...      61.0   \n",
       "\n",
       "    Act Items  Act Hrs  Act Labor Cost  Sched Shifts SYS  \\\n",
       "17       42.0    46.48          1133.0              12.0   \n",
       "18       59.0    30.56          1198.0              12.0   \n",
       "19       63.0    60.66          1183.0              12.0   \n",
       "22       86.0    52.46          1071.0              12.0   \n",
       "23       93.0    51.58          1071.0              12.0   \n",
       "\n",
       "    Sched Efficiency SYS  Sched Shifts MGR  Sched Efficiency MGR  Sched Edits  \\\n",
       "17                  0.68              12.0                  0.68          0.0   \n",
       "18                  0.70              12.0                  0.70          0.0   \n",
       "19                  0.65              12.0                  0.65          0.0   \n",
       "22                  0.54              12.0                  0.54          0.0   \n",
       "23                  0.65              12.0                  0.65          0.0   \n",
       "\n",
       "    Average Efficiency  \n",
       "17                0.68  \n",
       "18                0.70  \n",
       "19                0.65  \n",
       "22                0.54  \n",
       "23                0.65  \n",
       "\n",
       "[5 rows x 22 columns]"
      ]
     },
     "execution_count": 9,
     "metadata": {},
     "output_type": "execute_result"
    }
   ],
   "source": [
    "data.head()"
   ]
  },
  {
   "cell_type": "code",
   "execution_count": 12,
   "metadata": {},
   "outputs": [
    {
     "data": {
      "text/plain": [
       "False"
      ]
     },
     "execution_count": 12,
     "metadata": {},
     "output_type": "execute_result"
    }
   ],
   "source": [
    "data.isnull().values.any()"
   ]
  },
  {
   "cell_type": "markdown",
   "metadata": {},
   "source": [
    "- Items / labor cost\n",
    "- Items per transaction\n",
    "- Price per item \n",
    "- Sales / Labor Cost\n",
    "- Sales per Labor Hour\n",
    "\n",
    "\n",
    "- Sales per transaction\n",
    "\n",
    "\n",
    "- Transactions / labor cost\n"
   ]
  },
  {
   "cell_type": "code",
   "execution_count": null,
   "metadata": {},
   "outputs": [],
   "source": [
    "data[\"Labor Cost per Item\"] = round(data[\"Act Labor Cost\"]/data[\"Act Items\"],2)\n",
    "data[\"Labor Cost per Item\"].head()"
   ]
  },
  {
   "cell_type": "code",
   "execution_count": null,
   "metadata": {},
   "outputs": [],
   "source": [
    "data[\"Items per Txns\"] = round(data[\"Act Items\"]/data[\"Act Txns\"], 2)\n",
    "data[\"Items per Txns\"].head()"
   ]
  },
  {
   "cell_type": "code",
   "execution_count": null,
   "metadata": {},
   "outputs": [],
   "source": [
    "data[\"Price per Item\"] = round(data[\"Act Sales\"]/data[\"Act Items\"], 2)\n",
    "data[\"Price per Item\"].head()"
   ]
  },
  {
   "cell_type": "code",
   "execution_count": null,
   "metadata": {},
   "outputs": [],
   "source": [
    "data[\"Sales per Labor Cost\"] = round(data[\"Act Sales\"]/data[\"Act Labor Cost\"], 2)\n",
    "data[\"Sales per Labor Cost\"].head()"
   ]
  },
  {
   "cell_type": "code",
   "execution_count": null,
   "metadata": {},
   "outputs": [],
   "source": [
    "data[\"Sales per Labor Hours\"] = round(data[\"Act Sales\"]/data[\"Act Hrs\"], 2)\n",
    "data[\"Sales per Labor Hours\"].head()"
   ]
  },
  {
   "cell_type": "code",
   "execution_count": null,
   "metadata": {},
   "outputs": [],
   "source": [
    "data[\"Sales per Txns\"] = round(data[\"Act Sales\"]/data[\"Act Txns\"], 2)\n",
    "data[\"Sales per Txns\"].head()"
   ]
  },
  {
   "cell_type": "code",
   "execution_count": null,
   "metadata": {},
   "outputs": [],
   "source": [
    "data[\"Labor Cost per Txns\"] = round(data[\"Act Labor Cost\"]/data[\"Act Txns\"], 2)\n",
    "data[\"Labor Cost per Txns\"].head()"
   ]
  },
  {
   "cell_type": "code",
   "execution_count": 14,
   "metadata": {},
   "outputs": [],
   "source": [
    "data.to_csv(path_or_buf = \"Store Business and Scheduling Metrics 2.csv\", index = False)"
   ]
  },
  {
   "cell_type": "markdown",
   "metadata": {},
   "source": [
    "Executions OnTime:Late Ratio = \n",
    "[Executions Completed  On-Time]/[Executions Completed  Late]\n",
    "Efficiency MGR - SYS\n",
    "[Sched Efficiency MGR]-[Sched Efficiency SYS]\n",
    "Logons/Executions Completed Late\n",
    "Logons/Executions Completed On Time\n",
    "Logons/Executions Forced Closed\n",
    "Logons/Executions Planned\n",
    "[Logons]/[Sched Edits]\n"
   ]
  },
  {
   "cell_type": "markdown",
   "metadata": {},
   "source": [
    "# Logons"
   ]
  },
  {
   "cell_type": "code",
   "execution_count": 14,
   "metadata": {},
   "outputs": [
    {
     "data": {
      "text/plain": [
       "(16513, 3)"
      ]
     },
     "execution_count": 14,
     "metadata": {},
     "output_type": "execute_result"
    }
   ],
   "source": [
    "logons = pd.read_csv(\"C:/Users/btjoa/OneDrive/Desktop/Babson/Grad/Field Project/Data/Initial Drop/logons.csv\")\n",
    "logons.shape"
   ]
  },
  {
   "cell_type": "code",
   "execution_count": 13,
   "metadata": {},
   "outputs": [
    {
     "data": {
      "text/plain": [
       "False"
      ]
     },
     "execution_count": 13,
     "metadata": {},
     "output_type": "execute_result"
    }
   ],
   "source": [
    "logons.isnull().values.any()"
   ]
  },
  {
   "cell_type": "code",
   "execution_count": 17,
   "metadata": {},
   "outputs": [
    {
     "data": {
      "text/plain": [
       "(16505, 3)"
      ]
     },
     "execution_count": 17,
     "metadata": {},
     "output_type": "execute_result"
    }
   ],
   "source": [
    "logons = logons[logons[\"Str Id\"] != \"S14292\"]\n",
    "logons.shape"
   ]
  },
  {
   "cell_type": "code",
   "execution_count": null,
   "metadata": {},
   "outputs": [],
   "source": [
    "logons.to_csv(path_or_buf = \"Logons 2.csv\", index = False)"
   ]
  },
  {
   "cell_type": "markdown",
   "metadata": {},
   "source": [
    "# Store Walks"
   ]
  },
  {
   "cell_type": "code",
   "execution_count": null,
   "metadata": {},
   "outputs": [],
   "source": [
    "sw = pd.read_csv(\"C:/Users/btjoa/OneDrive/Desktop/Babson/Grad/Field Project/Data/Initial Drop/Store Walks.csv\")\n",
    "sw.shape"
   ]
  },
  {
   "cell_type": "code",
   "execution_count": null,
   "metadata": {},
   "outputs": [],
   "source": [
    "sw.isnull().values.any()"
   ]
  },
  {
   "cell_type": "code",
   "execution_count": null,
   "metadata": {},
   "outputs": [],
   "source": [
    "sw = sw[sw[\"Str Id\"] != \"S14292\"]"
   ]
  },
  {
   "cell_type": "code",
   "execution_count": null,
   "metadata": {},
   "outputs": [],
   "source": [
    "sw.shape #no rows were removed"
   ]
  },
  {
   "cell_type": "markdown",
   "metadata": {},
   "source": []
  }
 ],
 "metadata": {
  "kernelspec": {
   "display_name": "PyCharm (Programming in Python)",
   "language": "python",
   "name": "pycharm-9c928b66"
  },
  "language_info": {
   "codemirror_mode": {
    "name": "ipython",
    "version": 3
   },
   "file_extension": ".py",
   "mimetype": "text/x-python",
   "name": "python",
   "nbconvert_exporter": "python",
   "pygments_lexer": "ipython3",
   "version": "3.8.3"
  }
 },
 "nbformat": 4,
 "nbformat_minor": 4
}
