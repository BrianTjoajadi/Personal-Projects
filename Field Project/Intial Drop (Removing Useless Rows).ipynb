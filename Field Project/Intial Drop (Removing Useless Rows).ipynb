{
 "cells": [
  {
   "cell_type": "code",
   "execution_count": null,
   "metadata": {},
   "outputs": [],
   "source": [
    "import pandas as pd"
   ]
  },
  {
   "cell_type": "markdown",
   "metadata": {},
   "source": [
    "# Scheduling Metrics"
   ]
  },
  {
   "cell_type": "code",
   "execution_count": null,
   "metadata": {},
   "outputs": [],
   "source": [
    "data = pd.read_csv(\"C:/Users/btjoa/OneDrive/Desktop/Babson/Grad/Field Project/Data/Initial Drop/Store Business and Scheduling Metrics 2.csv\")"
   ]
  },
  {
   "cell_type": "code",
   "execution_count": null,
   "metadata": {},
   "outputs": [],
   "source": [
    "data.head(5)\n",
    "data.shape"
   ]
  },
  {
   "cell_type": "code",
   "execution_count": null,
   "metadata": {
    "scrolled": true
   },
   "outputs": [],
   "source": [
    "data.isnull().values.any()"
   ]
  },
  {
   "cell_type": "code",
   "execution_count": null,
   "metadata": {},
   "outputs": [],
   "source": [
    "#Ask how they think it should be done\n",
    "data = data[data[\"Fcst Sales\"]> 0]\n",
    "data.shape"
   ]
  },
  {
   "cell_type": "code",
   "execution_count": null,
   "metadata": {},
   "outputs": [],
   "source": [
    "data = data[data[\"Act Items\"]> 0]\n",
    "data = data[data[\"Act Sales\"]> 0]\n",
    "data.head()"
   ]
  },
  {
   "cell_type": "code",
   "execution_count": null,
   "metadata": {},
   "outputs": [],
   "source": [
    "data = data[data[\"Fcst Hrs\"]> 0]\n",
    "data.shape"
   ]
  },
  {
   "cell_type": "code",
   "execution_count": null,
   "metadata": {},
   "outputs": [],
   "source": [
    "data = data[data[\"Act Txns\"]>0]"
   ]
  },
  {
   "cell_type": "code",
   "execution_count": null,
   "metadata": {},
   "outputs": [],
   "source": [
    "data[\"Average Efficiency\"] = (data[\"Sched Efficiency MGR\"] + data[\"Sched Efficiency SYS\"])/2"
   ]
  },
  {
   "cell_type": "code",
   "execution_count": null,
   "metadata": {},
   "outputs": [],
   "source": [
    "data.head()"
   ]
  },
  {
   "cell_type": "code",
   "execution_count": null,
   "metadata": {},
   "outputs": [],
   "source": [
    "data.isnull().values.any()"
   ]
  },
  {
   "cell_type": "markdown",
   "metadata": {},
   "source": [
    "- Items / labor cost\n",
    "- Items per transaction\n",
    "- Price per item \n",
    "- Sales / Labor Cost\n",
    "- Sales per Labor Hour\n",
    "\n",
    "\n",
    "- Sales per transaction\n",
    "\n",
    "\n",
    "- Transactions / labor cost\n"
   ]
  },
  {
   "cell_type": "code",
   "execution_count": null,
   "metadata": {},
   "outputs": [],
   "source": [
    "data[\"Labor Cost per Item\"] = round(data[\"Act Labor Cost\"]/data[\"Act Items\"],2)\n",
    "data[\"Labor Cost per Item\"].head()"
   ]
  },
  {
   "cell_type": "code",
   "execution_count": null,
   "metadata": {},
   "outputs": [],
   "source": [
    "data[\"Items per Txns\"] = round(data[\"Act Items\"]/data[\"Act Txns\"], 2)\n",
    "data[\"Items per Txns\"].head()"
   ]
  },
  {
   "cell_type": "code",
   "execution_count": null,
   "metadata": {},
   "outputs": [],
   "source": [
    "data[\"Price per Item\"] = round(data[\"Act Sales\"]/data[\"Act Items\"], 2)\n",
    "data[\"Price per Item\"].head()"
   ]
  },
  {
   "cell_type": "code",
   "execution_count": null,
   "metadata": {},
   "outputs": [],
   "source": [
    "data[\"Sales per Labor Cost\"] = round(data[\"Act Sales\"]/data[\"Act Labor Cost\"], 2)\n",
    "data[\"Sales per Labor Cost\"].head()"
   ]
  },
  {
   "cell_type": "code",
   "execution_count": null,
   "metadata": {},
   "outputs": [],
   "source": [
    "data[\"Sales per Labor Hours\"] = round(data[\"Act Sales\"]/data[\"Act Hrs\"], 2)\n",
    "data[\"Sales per Labor Hours\"].head()"
   ]
  },
  {
   "cell_type": "code",
   "execution_count": null,
   "metadata": {},
   "outputs": [],
   "source": [
    "data[\"Sales per Txns\"] = round(data[\"Act Sales\"]/data[\"Act Txns\"], 2)\n",
    "data[\"Sales per Txns\"].head()"
   ]
  },
  {
   "cell_type": "code",
   "execution_count": null,
   "metadata": {},
   "outputs": [],
   "source": [
    "data[\"Labor Cost per Txns\"] = round(data[\"Act Labor Cost\"]/data[\"Act Txns\"], 2)\n",
    "data[\"Labor Cost per Txns\"].head()"
   ]
  },
  {
   "cell_type": "code",
   "execution_count": null,
   "metadata": {},
   "outputs": [],
   "source": [
    "data.to_csv(path_or_buf = \"Store Business and Scheduling Metrics 2.csv\", index = False)"
   ]
  },
  {
   "cell_type": "markdown",
   "metadata": {},
   "source": [
    "Executions OnTime:Late Ratio = \n",
    "[Executions Completed  On-Time]/[Executions Completed  Late]\n",
    "Efficiency MGR - SYS\n",
    "[Sched Efficiency MGR]-[Sched Efficiency SYS]\n",
    "Logons/Executions Completed Late\n",
    "Logons/Executions Completed On Time\n",
    "Logons/Executions Forced Closed\n",
    "Logons/Executions Planned\n",
    "[Logons]/[Sched Edits]\n"
   ]
  },
  {
   "cell_type": "markdown",
   "metadata": {},
   "source": [
    "# Logons"
   ]
  },
  {
   "cell_type": "code",
   "execution_count": null,
   "metadata": {},
   "outputs": [],
   "source": [
    "logons = pd.read_csv(\"C:/Users/btjoa/OneDrive/Desktop/Babson/Grad/Field Project/Data/Initial Drop/logons 2.csv\")\n",
    "logons.shape"
   ]
  },
  {
   "cell_type": "code",
   "execution_count": null,
   "metadata": {},
   "outputs": [],
   "source": [
    "logons.isnull().values.any()"
   ]
  },
  {
   "cell_type": "code",
   "execution_count": null,
   "metadata": {},
   "outputs": [],
   "source": [
    "logons = logons[logons[\"Str Id\"] != \"S14292\"]\n",
    "logons.shape"
   ]
  },
  {
   "cell_type": "code",
   "execution_count": null,
   "metadata": {},
   "outputs": [],
   "source": [
    "# logons.to_csv(path_or_buf = \"Logons 2.csv\", index = False)"
   ]
  },
  {
   "cell_type": "markdown",
   "metadata": {},
   "source": [
    "# Store Walks"
   ]
  },
  {
   "cell_type": "code",
   "execution_count": null,
   "metadata": {},
   "outputs": [],
   "source": [
    "sw = pd.read_csv(\"C:/Users/btjoa/OneDrive/Desktop/Babson/Grad/Field Project/Data/Initial Drop/Store Walks.csv\")\n",
    "sw.shape"
   ]
  },
  {
   "cell_type": "code",
   "execution_count": null,
   "metadata": {},
   "outputs": [],
   "source": [
    "sw.isnull().values.any()"
   ]
  },
  {
   "cell_type": "code",
   "execution_count": null,
   "metadata": {},
   "outputs": [],
   "source": [
    "sw = sw[sw[\"Str Id\"] != \"S14292\"]"
   ]
  },
  {
   "cell_type": "code",
   "execution_count": null,
   "metadata": {},
   "outputs": [],
   "source": [
    "sw.shape #no rows were removed"
   ]
  },
  {
   "cell_type": "markdown",
   "metadata": {},
   "source": []
  },
  {
   "cell_type": "markdown",
   "metadata": {},
   "source": [
    "# Executions"
   ]
  },
  {
   "cell_type": "code",
   "execution_count": null,
   "metadata": {},
   "outputs": [],
   "source": [
    "import pandas as pd\n",
    "import numpy as np"
   ]
  },
  {
   "cell_type": "code",
   "execution_count": null,
   "metadata": {},
   "outputs": [],
   "source": [
    "exc = pd.read_csv(\"C:/Users/btjoa/OneDrive/Desktop/Babson/Grad/Field Project/Data/Initial Drop/Executions.csv\")"
   ]
  },
  {
   "cell_type": "code",
   "execution_count": null,
   "metadata": {},
   "outputs": [],
   "source": [
    "exc.head()"
   ]
  },
  {
   "cell_type": "code",
   "execution_count": null,
   "metadata": {},
   "outputs": [],
   "source": [
    "exc.isnull().values.any()"
   ]
  },
  {
   "cell_type": "code",
   "execution_count": null,
   "metadata": {},
   "outputs": [],
   "source": [
    "exc.loc[lambda x: x[\"Week Start Date\"] == \"10/11/2020\"]"
   ]
  },
  {
   "cell_type": "markdown",
   "metadata": {},
   "source": [
    "We need to fix executions in order to merge the data sets without any errors. We're dividing up executions by the associated rows and columns. "
   ]
  },
  {
   "cell_type": "markdown",
   "metadata": {},
   "source": [
    "## Info "
   ]
  },
  {
   "cell_type": "code",
   "execution_count": null,
   "metadata": {},
   "outputs": [],
   "source": [
    "exc[\"Info Planned\"] = exc.apply(lambda row: row[\"Executions Planned\"] if row[\"Execution Type\"] == \"Info\" else 0, axis = 1)"
   ]
  },
  {
   "cell_type": "code",
   "execution_count": null,
   "metadata": {},
   "outputs": [],
   "source": [
    "exc[\"Info Completed On-Time\"] = exc.apply(lambda row: row[\"Executions Completed  On-Time\"] if row[\"Execution Type\"] == \"Info\" else 0, axis = 1)"
   ]
  },
  {
   "cell_type": "code",
   "execution_count": null,
   "metadata": {},
   "outputs": [],
   "source": [
    "exc[\"Info Completed Late\"] = exc.apply(lambda row: row[\"Executions Completed  Late\"] if row[\"Execution Type\"] == \"Info\" else 0, axis = 1)"
   ]
  },
  {
   "cell_type": "code",
   "execution_count": null,
   "metadata": {},
   "outputs": [],
   "source": [
    "exc[\"Info Forced Closed\"] = exc.apply(lambda row: row[\"Executions Forced Closed\"] if row[\"Execution Type\"] == \"Info\" else 0, axis = 1)"
   ]
  },
  {
   "cell_type": "code",
   "execution_count": null,
   "metadata": {},
   "outputs": [],
   "source": [
    "exc[\"Info open\"] = exc.apply(lambda row: row[\"Executions Open\"] if row[\"Execution Type\"] == \"Info\" else 0, axis = 1)"
   ]
  },
  {
   "cell_type": "markdown",
   "metadata": {},
   "source": [
    "## Store Project "
   ]
  },
  {
   "cell_type": "code",
   "execution_count": null,
   "metadata": {},
   "outputs": [],
   "source": [
    "exc[\"Store Project Planned\"] = exc.apply(lambda row: row[\"Executions Planned\"] if row[\"Execution Type\"] == \"Store Project\" else 0, axis = 1)"
   ]
  },
  {
   "cell_type": "code",
   "execution_count": null,
   "metadata": {},
   "outputs": [],
   "source": [
    "exc[\"Store Project Completed On-Time\"] = exc.apply(lambda row: row[\"Executions Completed  On-Time\"] if row[\"Execution Type\"] == \"Store Project\" else 0, axis = 1)"
   ]
  },
  {
   "cell_type": "code",
   "execution_count": null,
   "metadata": {},
   "outputs": [],
   "source": [
    "exc[\"Store Project Completed Late\"] = exc.apply(lambda row: row[\"Executions Completed  Late\"] if row[\"Execution Type\"] == \"Store Project\" else 0, axis = 1)"
   ]
  },
  {
   "cell_type": "code",
   "execution_count": null,
   "metadata": {},
   "outputs": [],
   "source": [
    "exc[\"Store Project Forced Closed\"] = exc.apply(lambda row: row[\"Executions Forced Closed\"] if row[\"Execution Type\"] == \"Store Project\" else 0, axis = 1)"
   ]
  },
  {
   "cell_type": "code",
   "execution_count": null,
   "metadata": {},
   "outputs": [],
   "source": [
    "exc[\"Store Project open\"] = exc.apply(lambda row: row[\"Executions Open\"] if row[\"Execution Type\"] == \"Store Project\" else 0, axis = 1)"
   ]
  },
  {
   "cell_type": "markdown",
   "metadata": {},
   "source": [
    "## Weekly Project "
   ]
  },
  {
   "cell_type": "code",
   "execution_count": null,
   "metadata": {},
   "outputs": [],
   "source": [
    "exc[\"Weekly Project Planned\"] = exc.apply(lambda row: row[\"Executions Planned\"] if row[\"Execution Type\"] == \"Weekly Project\" else 0, axis = 1)"
   ]
  },
  {
   "cell_type": "code",
   "execution_count": null,
   "metadata": {},
   "outputs": [],
   "source": [
    "exc[\"Weekly Project Completed On-Time\"] = exc.apply(lambda row: row[\"Executions Completed  On-Time\"] if row[\"Execution Type\"] == \"Weekly Project\" else 0, axis = 1)"
   ]
  },
  {
   "cell_type": "code",
   "execution_count": null,
   "metadata": {},
   "outputs": [],
   "source": [
    "exc[\"Weekly Project Completed Late\"] = exc.apply(lambda row: row[\"Executions Completed  Late\"] if row[\"Execution Type\"] == \"Weekly Project\" else 0, axis = 1)"
   ]
  },
  {
   "cell_type": "code",
   "execution_count": null,
   "metadata": {},
   "outputs": [],
   "source": [
    "exc[\"Weekly Project Forced Closed\"] = exc.apply(lambda row: row[\"Executions Forced Closed\"] if row[\"Execution Type\"] == \"Weekly Project\" else 0, axis = 1)"
   ]
  },
  {
   "cell_type": "code",
   "execution_count": null,
   "metadata": {},
   "outputs": [],
   "source": [
    "exc[\"Weekly Project open\"] = exc.apply(lambda row: row[\"Executions Open\"] if row[\"Execution Type\"] == \"Weekly Project\" else 0, axis = 1)"
   ]
  },
  {
   "cell_type": "markdown",
   "metadata": {},
   "source": [
    "## Making a Copy "
   ]
  },
  {
   "cell_type": "code",
   "execution_count": null,
   "metadata": {},
   "outputs": [],
   "source": [
    "#Create a copy of exc with just Str Id, Week Start Date and the new columns\n",
    "exc_copy = pd.DataFrame(exc.groupby([\"Str Id\", \"Week Start Date\"]).agg(np.sum))\n",
    "exc_copy = exc_copy.reset_index()"
   ]
  },
  {
   "cell_type": "code",
   "execution_count": null,
   "metadata": {},
   "outputs": [],
   "source": [
    "exc_copy.loc[lambda x: x[\"Week Start Date\"] == \"10/11/2020\"]"
   ]
  },
  {
   "cell_type": "code",
   "execution_count": null,
   "metadata": {},
   "outputs": [],
   "source": [
    "exc_copy = exc_copy.drop([\"Executions Planned\", \"Executions Completed  On-Time\", \"Executions Completed  Late\", \"Executions Forced Closed\", \"Executions Open\"], axis = 1)\n",
    "exc_copy.head()"
   ]
  },
  {
   "cell_type": "code",
   "execution_count": null,
   "metadata": {},
   "outputs": [],
   "source": [
    "#Writing into CSV\n",
    "exc_copy.to_csv(path_or_buf = \"Executions (reorganized).csv\", index = False)"
   ]
  },
  {
   "cell_type": "markdown",
   "metadata": {},
   "source": [
    "# Merging all datasets (excluding store walks)"
   ]
  },
  {
   "cell_type": "code",
   "execution_count": null,
   "metadata": {},
   "outputs": [],
   "source": [
    "met = pd.read_csv(\"C:/Users/btjoa/OneDrive/Desktop/Babson/Grad/Field Project/Data/Initial Drop/Store Business and Scheduling Metrics 2.csv\")\n",
    "log = pd.read_csv(\"C:/Users/btjoa/OneDrive/Desktop/Babson/Grad/Field Project/Data/Initial Drop/Logons 2.csv\")\n",
    "exc = pd.read_csv(\"C:/Users/btjoa/OneDrive/Desktop/Babson/Grad/Field Project/Data/Initial Drop/Executions (Reorganized).csv\")\n",
    "# walk = pd.read_csv(\"C:/Users/btjoa/OneDrive/Desktop/Babson/Grad/Field Project/Data/Initial Drop/Store Walks.csv\")"
   ]
  },
  {
   "cell_type": "code",
   "execution_count": null,
   "metadata": {},
   "outputs": [],
   "source": [
    "#Checking the shapes of each dataset\n",
    "print(met.shape)\n",
    "print(log.shape)\n",
    "print(exc.shape)"
   ]
  },
  {
   "cell_type": "code",
   "execution_count": null,
   "metadata": {},
   "outputs": [],
   "source": [
    "log['Logons'] = log['Logons'].apply(pd.to_numeric, args=('coerce',))\n",
    "log.isnull().values.any()"
   ]
  },
  {
   "cell_type": "code",
   "execution_count": null,
   "metadata": {},
   "outputs": [],
   "source": [
    "log[log.isnull().any(axis=1)]"
   ]
  },
  {
   "cell_type": "code",
   "execution_count": null,
   "metadata": {},
   "outputs": [],
   "source": [
    "log['Logons'] = log['Logons'].replace(np.nan, 0)"
   ]
  },
  {
   "cell_type": "code",
   "execution_count": null,
   "metadata": {},
   "outputs": [],
   "source": [
    "final = met.merge(log, on=[\"Str Id\", \"Week Start Date\"], how = \"left\")"
   ]
  },
  {
   "cell_type": "code",
   "execution_count": null,
   "metadata": {},
   "outputs": [],
   "source": [
    "final = final.merge(exc, on=[\"Str Id\", \"Week Start Date\"], how = \"left\")"
   ]
  },
  {
   "cell_type": "code",
   "execution_count": null,
   "metadata": {},
   "outputs": [],
   "source": [
    "final.shape"
   ]
  }
 ],
 "metadata": {
  "kernelspec": {
   "display_name": "PyCharm (Programming in Python)",
   "language": "python",
   "name": "pycharm-9c928b66"
  },
  "language_info": {
   "codemirror_mode": {
    "name": "ipython",
    "version": 3
   },
   "file_extension": ".py",
   "mimetype": "text/x-python",
   "name": "python",
   "nbconvert_exporter": "python",
   "pygments_lexer": "ipython3",
   "version": "3.8.3"
  }
 },
 "nbformat": 4,
 "nbformat_minor": 4
}
