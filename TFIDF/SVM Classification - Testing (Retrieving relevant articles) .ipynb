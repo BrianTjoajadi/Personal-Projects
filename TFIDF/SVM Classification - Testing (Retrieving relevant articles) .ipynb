{
 "cells": [
  {
   "cell_type": "code",
   "execution_count": 32,
   "metadata": {
    "pycharm": {
     "is_executing": true
    }
   },
   "outputs": [],
   "source": [
    "import pandas as pd\n",
    "import numpy as np\n",
    "from sklearn.svm import SVC\n",
    "from sklearn.metrics import roc_auc_score\n",
    "from sklearn.model_selection import train_test_split\n",
    "from sklearn.feature_extraction.text import TfidfVectorizer, TfidfTransformer, CountVectorizer\n",
    "from nltk.corpus import stopwords\n",
    "from nltk.stem import PorterStemmer\n",
    "from nltk.tokenize import word_tokenize\n",
    "import matplotlib.pyplot as plt\n",
    "import string\n",
    "import re\n",
    "import os\n",
    "import nltk\n",
    "import numpy.linalg as LA\n",
    "import pickle"
   ]
  },
  {
   "cell_type": "markdown",
   "metadata": {},
   "source": [
    "# Importing Data and Cleaning"
   ]
  },
  {
   "cell_type": "code",
   "execution_count": 2,
   "metadata": {
    "pycharm": {
     "is_executing": true
    }
   },
   "outputs": [],
   "source": [
    "data = pd.read_csv(\"Articles_textv5.csv\", nrows=1000)\n",
    "# take away nrows = 1000 on AWS"
   ]
  },
  {
   "cell_type": "code",
   "execution_count": 3,
   "metadata": {
    "pycharm": {
     "is_executing": true
    }
   },
   "outputs": [
    {
     "name": "stdout",
     "output_type": "stream",
     "text": [
      "0                                                  NaN\n",
      "1    Variety Print Plus SubscriberVariety Print Plu...\n",
      "2    Rigorous nonprofit news for Vermont.Today's Bu...\n",
      "3    VAUXHALL, NJ – A Vauxhall restaurant owner has...\n",
      "4    Coss MarteHere are two issues Coss Marte start...\n",
      "Name: body_text, dtype: object\n"
     ]
    }
   ],
   "source": [
    "print(data[\"body_text\"].head(5))"
   ]
  },
  {
   "cell_type": "code",
   "execution_count": 21,
   "metadata": {
    "pycharm": {
     "is_executing": true
    }
   },
   "outputs": [],
   "source": [
    "#drop null values\n",
    "data = data.dropna(axis=0).reset_index()"
   ]
  },
  {
   "cell_type": "code",
   "execution_count": 22,
   "metadata": {
    "pycharm": {
     "is_executing": true
    }
   },
   "outputs": [
    {
     "data": {
      "text/plain": [
       "False"
      ]
     },
     "execution_count": 22,
     "metadata": {},
     "output_type": "execute_result"
    }
   ],
   "source": [
    "#check for null\n",
    "data.isnull().values.any()"
   ]
  },
  {
   "cell_type": "code",
   "execution_count": 23,
   "metadata": {
    "pycharm": {
     "is_executing": true
    }
   },
   "outputs": [
    {
     "data": {
      "text/plain": [
       "0    variety print plus subscribervariety print plu...\n",
       "1    rigorous nonprofit news for vermont.today's bu...\n",
       "2    vauxhall, nj – a vauxhall restaurant owner has...\n",
       "3    coss martehere are two issues coss marte start...\n",
       "4    gettythe covid-19 global pandemic has upended ...\n",
       "Name: body_text, dtype: object"
      ]
     },
     "execution_count": 23,
     "metadata": {},
     "output_type": "execute_result"
    }
   ],
   "source": [
    "data[\"body_text\"].head(5)"
   ]
  },
  {
   "cell_type": "code",
   "execution_count": 24,
   "metadata": {
    "pycharm": {
     "is_executing": true
    }
   },
   "outputs": [
    {
     "data": {
      "text/plain": [
       "0    ['variety print plus subscribervariety print p...\n",
       "1    [\"rigorous nonprofit news for vermont.today's ...\n",
       "2    ['vauxhall, nj – a vauxhall restaurant owner h...\n",
       "3    [\"coss martehere are two issues coss marte sta...\n",
       "4    ['gettythe covid-19 global pandemic has upende...\n",
       "Name: combined_body_text, dtype: object"
      ]
     },
     "execution_count": 24,
     "metadata": {},
     "output_type": "execute_result"
    }
   ],
   "source": [
    "data[\"combined_body_text\"] = data.filter(regex=(\"body_text\")).apply(lambda x: ''.join(str(x.values)), axis=1)\n",
    "\n",
    "data = data.applymap(lambda s:s.lower() if type(s) == str else s)\n",
    "\n",
    "data[\"combined_body_text\"].head(5)"
   ]
  },
  {
   "cell_type": "code",
   "execution_count": 25,
   "metadata": {
    "pycharm": {
     "is_executing": true
    }
   },
   "outputs": [],
   "source": [
    "REPLACE_BY_SPACE_RE = re.compile('[/(){}\\[\\]\\|@,;]')\n",
    "BAD_SYMBOLS_RE = re.compile('[^0-9a-z #+_â€˜™]')\n",
    "data[\"combined_body_text\"] = [REPLACE_BY_SPACE_RE.sub('',row) for row in data[\"combined_body_text\"]]\n",
    "data[\"combined_body_text\"] = [BAD_SYMBOLS_RE.sub('',row) for row in data[\"combined_body_text\"]]"
   ]
  },
  {
   "cell_type": "code",
   "execution_count": 26,
   "metadata": {
    "pycharm": {
     "is_executing": true
    },
    "scrolled": true
   },
   "outputs": [
    {
     "data": {
      "text/plain": [
       "0    variety print plus subscribervariety print plu...\n",
       "1    rigorous nonprofit news for vermonttodays busi...\n",
       "2    vauxhall nj  a vauxhall restaurant owner has b...\n",
       "3    coss martehere are two issues coss marte start...\n",
       "4    gettythe covid19 global pandemic has upended t...\n",
       "Name: combined_body_text, dtype: object"
      ]
     },
     "execution_count": 26,
     "metadata": {},
     "output_type": "execute_result"
    }
   ],
   "source": [
    "data[\"combined_body_text\"].head(5)"
   ]
  },
  {
   "cell_type": "markdown",
   "metadata": {},
   "source": [
    "# Preprocessing"
   ]
  },
  {
   "cell_type": "code",
   "execution_count": 27,
   "metadata": {
    "pycharm": {
     "is_executing": true
    }
   },
   "outputs": [
    {
     "name": "stdout",
     "output_type": "stream",
     "text": [
      "0    variety print plus subscribervariety print plu...\n",
      "1    rigorous nonprofit news for vermonttodays busi...\n",
      "2    vauxhall nj  a vauxhall restaurant owner has b...\n",
      "3    coss martehere are two issues coss marte start...\n",
      "4    gettythe covid19 global pandemic has upended t...\n",
      "Name: bag_of_words, dtype: object\n"
     ]
    }
   ],
   "source": [
    "data[\"bag_of_words\"] = data[\"combined_body_text\"]\n",
    "print(data[\"bag_of_words\"].head())"
   ]
  },
  {
   "cell_type": "code",
   "execution_count": 28,
   "metadata": {
    "pycharm": {
     "is_executing": true
    }
   },
   "outputs": [],
   "source": [
    "#strip punctuation\n",
    "# This uses str.translate to map all punctuation to the empty string\n",
    "table = str.maketrans('', '', string.punctuation)\n",
    "data[\"bag_of_words\"] = [row.translate(table) for row in data[\"bag_of_words\"]]\n",
    "#print(data[\"bag_of_words\"].head())"
   ]
  },
  {
   "cell_type": "code",
   "execution_count": 29,
   "metadata": {
    "pycharm": {
     "is_executing": true
    }
   },
   "outputs": [],
   "source": [
    "# Convert all numbers in the article to the word 'num' using regular expressions\n",
    "data[\"bag_of_words\"] = [re.sub(r'\\d+', 'num', row) for row in data[\"bag_of_words\"]]\n",
    "#print(data[\"bag_of_words\"] )"
   ]
  },
  {
   "cell_type": "code",
   "execution_count": 33,
   "metadata": {
    "pycharm": {
     "is_executing": true
    }
   },
   "outputs": [
    {
     "name": "stdout",
     "output_type": "stream",
     "text": [
      "0    [variety, print, plus, subscribervariety, prin...\n",
      "1    [rigorous, nonprofit, news, vermonttodays, bus...\n",
      "2    [vauxhall, nj, vauxhall, restaurant, owner, na...\n",
      "3    [coss, martehere, two, issues, coss, marte, st...\n",
      "4    [gettythe, covidnum, global, pandemic, upended...\n",
      "Name: bag_of_words, dtype: object\n"
     ]
    }
   ],
   "source": [
    "#stopwords\n",
    "stopwords = set(stopwords.words('english'))\n",
    "data[\"bag_of_words\"] = [[word.lower() for word in row.split() if word.lower() not in stopwords] for row in data[\"bag_of_words\"]]\n",
    "print(data[\"bag_of_words\"].head())"
   ]
  },
  {
   "cell_type": "code",
   "execution_count": 34,
   "metadata": {
    "pycharm": {
     "is_executing": true
    }
   },
   "outputs": [],
   "source": [
    "#stemming (A better option would be to lemmatize, but it takes forever)\n",
    "stemmer = PorterStemmer()\n",
    "data[\"bag_of_words\"] = [\" \".join([stemmer.stem(word) for word in row]) for row in data[\"bag_of_words\"]]"
   ]
  },
  {
   "cell_type": "markdown",
   "metadata": {},
   "source": [
    "# SVM"
   ]
  },
  {
   "cell_type": "code",
   "execution_count": 15,
   "metadata": {
    "pycharm": {
     "is_executing": true
    }
   },
   "outputs": [],
   "source": [
    "clf2 = pickle.load(open(\"clf\", 'rb'))\n",
    "vectorizer = pickle.load(open(\"vectorizer\", \"rb\"))"
   ]
  },
  {
   "cell_type": "code",
   "execution_count": 35,
   "metadata": {
    "pycharm": {
     "is_executing": true
    }
   },
   "outputs": [],
   "source": [
    "result = clf2.predict(vectorizer.transform(data[\"bag_of_words\"]))"
   ]
  },
  {
   "cell_type": "code",
   "execution_count": 36,
   "metadata": {
    "pycharm": {
     "is_executing": true
    }
   },
   "outputs": [
    {
     "name": "stdout",
     "output_type": "stream",
     "text": [
      "0      ‘homeland’ producers talk alternate endings, c...\n",
      "1      new program helps small vermont businesses ada...\n",
      "2      owner of vauxhall takeout bbq restaurant named...\n",
      "3      second chance studios: turning ex-offenders in...\n",
      "4      7 ways to make your online virtual conference ...\n",
      "                             ...                        \n",
      "987    cemex-tec recognizes projects that seek to tra...\n",
      "988    bangladesh threatens to ban these uk brands, e...\n",
      "989    webb fontaine launches new webinar series to h...\n",
      "990    5 ways to reduce customer churn for saas in a ...\n",
      "991    we are rethinking businesses, why can’t we ret...\n",
      "Name: Title, Length: 992, dtype: object\n"
     ]
    }
   ],
   "source": [
    "print(data['Title'])"
   ]
  },
  {
   "cell_type": "code",
   "execution_count": 38,
   "metadata": {
    "pycharm": {
     "is_executing": true
    }
   },
   "outputs": [
    {
     "name": "stdout",
     "output_type": "stream",
     "text": [
      "10 post covid-19, the answer is digital transformation, now what’s the question?: 1.0\n",
      "30 investing in the end-to-end value that 3d printing creates, not in the technology itself: 1.0\n",
      "41 best practices for managing remote customer support teams: 1.0\n",
      "42 real-time customer engagement and omnichannel personalization deliver a superior cx: 1.0\n",
      "46 lucro deploys small business lending app to speed covid-19 relief loans: 1.0\n",
      "49 2020 is the tech awakening cre has been waiting for - bisnow: 1.0\n",
      "53 life after the lockdown: it spending priorities now: 1.0\n",
      "61 gotcha mobility rolls out fleet of all-new e-bikes: 1.0\n",
      "65 vmblog expert interview: simon crosby talks continuous intelligence and swim continuum 4.0: 1.0\n",
      "66 robotic process automation leader uipath raises $225m in late-stage round: 1.0\n",
      "68 5 ways b2b ecommerce improves organizational efficiency: 1.0\n",
      "123 gigsmart get gigs aggregates all open work opportunities into one app: 1.0\n",
      "147 xilinx and spline.ai use ai to enable covid-19 detection at the edge: 1.0\n",
      "155 [in-depth] sena momentum evo review: 1.0\n",
      "163 tactical haptics's newly created sabergrip will bring the physical in-hand experience of virtual fishing, sword fighting, and tool training one step closer to reality: 1.0\n",
      "164 constructing the future for engineering – finding the right model where one size does not fit all: 1.0\n",
      "186 how organizations can build analytics agility: 1.0\n",
      "192 the oracle fusion cloud is the real deal and that’s bad news for sap: 1.0\n",
      "200 how asana uses asana: managing a distributed team: 1.0\n",
      "203 the coming digitization of enterprise software sales: four trends winning teams will embrace.: 1.0\n",
      "205 weyland tech's createapp deploys first mobile apps for small businesses in italy as country reopens - globenewswire: 1.0\n",
      "207 pitching access management on the fly, los angeles-based britive raises $5.4 million: 1.0\n",
      "209 building engines and fastoffice form strategic partnership to bring virtual office tours to market: 1.0\n",
      "216 12 of the best software tools for working remotely (+ culture impacts): 1.0\n",
      "225 verizon’s cio is helping the telecom giant adapt swiftly to a contactless world: 1.0\n",
      "271 $11 billion navistar’s cio helps drive world class telematics for its customers: 1.0\n",
      "273 today’s cache | apple’s new macbook pro, google and apple ban location tracking in contact tracing apps, and more: 1.0\n",
      "274 transformative ai, no-code, or low-code? the best approaches to deploying ai in your business: 1.0\n",
      "278 plant-based fried 'chicken' and a blockchain for turkeys: how agricultural giant cargill is innovating the global food-production industry and potentially changing what you eat along the way: 1.0\n",
      "289 how mops teams are staying agile as remote work becomes the norm: 1.0\n",
      "300 building from anywhere: inside the slack app virtual hackathon: 1.0\n",
      "320 7 technologies that are powering remote teams in 2020: 1.0\n",
      "325 today’s pandemic shows why data visibility is essential to logistics: 1.0\n",
      "341 apricorn aegis secure key 3.0… your whole (data) life in your pocket: 1.0\n",
      "351 a 4-step process for recovering from business disruption - mit sloan news: 1.0\n",
      "360 gear break: silca bag, fizik tape, wahoo, santini & rapha kit, muc-off pulleys: 1.0\n",
      "369 gmail for customer support? 10 best practices you need to know: 1.0\n",
      "421 nokia signals its technology virtue – telecoms.com - telecoms.com: 1.0\n",
      "436 lessons in manufacturing innovation, courtesy of food network’s chopped: 1.0\n",
      "445 how coronavirus attacks the human body: 1.0\n",
      "458 michigan coronavirus hospital patients got unneeded antibiotics, new study shows: 1.0\n",
      "463 where are the region's population clusters with the highest risk of developing covid-19 complications?: 1.0\n",
      "469 the pandemic pivot: it leaders innovate on the fly: 1.0\n",
      "474 world coronavirus dispatch: how singapore is waging a war with covid-19: 1.0\n",
      "494 aquionics, berson & hanovia launch new uvc device for inactivation of sars-cov-2: 1.0\n",
      "500 i went to a job interview where they’re not taking covid seriously … or how to make a scene when you need to make a scene: 1.0\n",
      "512 tangent works announces partnership and integration with qlik to deliver revolutionary predictive analytics and forecasting solution - instantml: 1.0\n",
      "513 why supply chain visibility is key to apac retailers: 1.0\n",
      "530 israel bought masses of low-grade gear to fight the coronavirus: 1.0\n",
      "560 cdc first said not to wear masks, then to wear masks, then masks were better than vaccines – now new evidence shows masks don’t work: 1.0\n",
      "561 quack dr. robert redfield now says facemasks are more effective than a vaccine against coronavirus (video): 1.0\n",
      "564 apple to keep intel at arm's length: macos shifts from x86 to homegrown common cpu arch, run ios apps, too: 1.0\n",
      "565 why airlines are using diplomacy, not threats, to enforce mask rules on planes: 1.0\n",
      "575 responding to crises with speed and agility: 1.0\n",
      "576 oracle brandvoice: building low-code apps fast in a crisis: 3 pieces of advice: 1.0\n",
      "580 fio bolsters taiwan's anti-coronavirus medical volunteer system: 1.0\n",
      "591 children may play a larger role in transmission than once believed: 1.0\n",
      "592 remote research during the covid-19 crisis: 1.0\n",
      "605 sans dfir summit 2020 recap: 1.0\n",
      "623 20 ai, data science, machine learning terms you need to know in 2020 (part 2): 1.0\n",
      "624 the man betting $1 billion that pfizer can deliver a vaccine by this fall: 1.0\n",
      "625 mrna vaccine playlist: 1.0\n",
      "632 researchers use theta for real-time analysis of covid-19 proteins: 1.0\n",
      "633 authoritative covid-19 information and not violating patient rights—can we do both?: 1.0\n",
      "649 blood clots leave clinicians with clues about covid-19 - but no proven treatments: 1.0\n",
      "650 sap brandvoice: how covid-19 exposed weaknesses in the global supply chain: 1.0\n",
      "658 stable, mending patients become critically ill with little warning. doctors aren't sure why... 'second-week crash': 1.0\n",
      "660 why fast enterprise planning is more important than ever: 1.0\n",
      "662 if life gives you coronavirus, make face shields: doing good by doing good: 1.0\n",
      "663 98point6's $118m series e for test-based primary care, savana's $15m series b for free-text extraction and more digital health fundings: 1.0\n",
      "667 telus health exchange: evolving care delivery through collaborative action and efficient communication: 1.0\n",
      "672 this machine-learning upstart trained software to snare online drug dealers. now it's going after fake coronavirus test equipment peddlers: 1.0\n",
      "674 the collaboration quotient (cq): why working and communicating across functions is a strategic imperative for all businesses: 1.0\n",
      "684 an operating model for the next normal: lessons from agile organizations in the crisis: 1.0\n",
      "686 restore and reimagine: digital and analytics imperatives for insurers: 1.0\n",
      "696 zyfra to offer indian firms digital solutions to reduce covid risk - indiapost.com: 1.0\n",
      "708 svg tech insight: remote content creation in the age of covid-19 - sports video group: 1.0\n",
      "710 avenu and safebuilt team-up to help government customers recover from covid-19 economic impact: 1.0\n",
      "715 apple and google partner on covid-19 contact tracing technology: 1.0\n",
      "716 privacy-preserving contact tracing: 1.0\n",
      "719 retail operations models could streamline covid-19 logistics: 1.0\n",
      "723 technology for cloud efficiency for databases during data-intensive covid-19 pandemic: 1.0\n",
      "725 covid-19 and teletherapy may be changing how much you know about your therapist: 1.0\n",
      "732 jack ma teams up with columbia university to find cure for covid-19: 1.0\n",
      "733 touch less, do more challenge winners announced!: 1.0\n",
      "736 white house touts billions in coronavirus grants for innovators - fox business: 1.0\n",
      "739 coronavirus: indian-origin researcher arinjay banerjee among scientists who isolated covid-19 - livemint: 1.0\n",
      "740 technology aims to provide cloud efficiency for databases during data-intensive covid-19 pandemic - purdue news service: 1.0\n",
      "757 vtex raises $225m at a $1.7b valuation for e-commerce solutions aimed at retailers and brands: 1.0\n",
      "761 apple and google partner on covid-19 contact tracing technology: 1.0\n",
      "764 fast-tracking covid-19 diagnostic, therapeutic solutions: 1.0\n",
      "768 print your own covid-19 mask at home with germain verbrackel’s simple template: 1.0\n",
      "778 the navajo nation addresses its residents with plus codes: 1.0\n",
      "779 mit and covid-19: 1.0\n",
      "783 govt to positively consider demands of health dept. staff: 1.0\n",
      "790 caregility and oneview healthcare partner to deliver inpatient telehealth in the us and australia: 1.0\n",
      "793 swiss american cdmo recognized on 2020 inc. 5000 list of fastest-growing private companies in america: 1.0\n",
      "808 4 rules to stop governments misusing covid-19 tech after the crisis - world economic forum: 1.0\n",
      "822 the current crisis demands more external communication: 1.0\n",
      "825 pmo ropes in tech leaders to develop solutions to deal with coronavirus crisis - yourstory: 1.0\n",
      "837 uk’s national health service launches £500,000 covid19 tech competition: 1.0\n",
      "857 medable allies with mrn to support new remote care capabilities globally, critical for decentralized clinical trials and continued clinical research progress during covid-19: 1.0\n",
      "861 kain capital completes investment in mdland: 1.0\n",
      "862 recently launched talent marketplace, talimer, focuses on tech freelance workers: 1.0\n",
      "863 nihon kohden launches video laryngoscope in us to help clinicians quickly, safely intubate patients suffering from covid-19 or other critical conditions: 1.0\n",
      "865 biocon subsidiary receives nod to use cytosorb in covid-19 treatment: 1.0\n",
      "866 change healthcare unveils nationwide cloud-based solution for clinical data retrieval: 1.0\n",
      "871 researchers pilot 'model to data' approach to developing predictive algorithms: 1.0\n",
      "877 imv inc. launches plans to advance clinical development of a vaccine candidate against covid-19: 1.0\n",
      "878 elastic announces elasticon global, free virtual user conference to take place from october 13-15: 1.0\n",
      "880 global iot chip in healthcare market (2020 to 2025) - featuring intel, qualcomm technologies & texas instruments among others - yahoo finance: 1.0\n",
      "881 q&a: big tech bets on healthcare during covid-19: 1.0\n",
      "882 insights on the iot chip in healthcare global market to 2025 - key drivers and restraints - wfmz allentown: 1.0\n",
      "883 worldwide iot chip in healthcare industry to 2025 - by connectivity and geography - researchandmarkets.com - business wire: 1.0\n",
      "884 governments around the world escalate precautions amid the surge: 1.0\n",
      "885 microsoft cloud for healthcare touts telehealth, remote team collaboration: 1.0\n",
      "886 abcellera receives $175.6 million from the government of canada to discover solutions for covid-19 and build a manufacturing facility for antibody drugs: 1.0\n",
      "890 eight4nine starts 'good deeds friday'; delivers lunches to valley's urgent-care centers - kesq: 1.0\n",
      "893 trump administration's 'warp speed' plan gets this right about speeding up a covid-19 vaccine: 1.0\n",
      "894 coronavirus vaccine tracker: know what stage johnson & johnson, moderna, oxford astra zeneca, novavax are at - times now: 1.0\n",
      "899 government looks to ‘made-in-canada solutions’ to mask, ventilator shortage as international supplies tighten: 1.0\n",
      "902 africa: powering health across africa through covid-19 and a changing climate: 1.0\n",
      "903 halozyme announces roche receives fda approval for phesgo™ (fixed-dose combination of perjeta® and herceptin® for subcutaneous injection) utilizing halozyme's enhanze® technology for the treatment of patients with her2-positive breast cancer: 1.0\n",
      "907 monogram health and banner – university health plans announce innovative kidney care partnership: 1.0\n",
      "913 covid-19 shocks the digital health market, but the jolt may be positive news: 1.0\n",
      "915 ongoing trends for internet of things (iot) in healthcare market vigorous growth[pdf], cost analysis, business strategies till 2029 (coronavirus/covid-19 business impact) - news monitoring: 1.0\n",
      "916 increased production of operating room equipment to battle covid-19, reports tbrc: 1.0\n",
      "918 sierra leone: powerless in a pandemic - solar energy prescribed for off-grid healthcare: 1.0\n",
      "919 nyu tandon releases 3-d data tracking human interactions outside of covid hotspots: 1.0\n",
      "921 na proactive news snapshot: genprex, pyrogenesis canada, internet of things, ozop surgical, zynerba pharmaceuticals update … - proactive investors usa & canada: 1.0\n",
      "922 na proactive news snapshot: pyrogenesis canada, internet of things, ozop surgical, zynerba pharmaceuticals update … - proactive investors usa & canada: 1.0\n",
      "927 skin trouble on rise as face masks become essential: 1.0\n",
      "928 smile doctors and dental monitoring expand and accelerate partnership to provide remote monitoring to all patients during the state of emergency: 1.0\n",
      "935 virtual care startup raises $20 million to transform behavioral health for kids: 1.0\n",
      "937 henry schein enhances liquidity position with new credit facility totaling $700 million: 1.0\n",
      "938 improving global health equity by helping clinics do more with less: 1.0\n",
      "940 baylor scott & white health receives $100,000 from reliant to support remote monitoring of covid-positive patients: 1.0\n",
      "948 trubridge signs pennsylvania healthcare network to its ehr-agnostic care management program: 1.0\n",
      "950 innomar strategies achieves iso 9001:2015 certification for its clinics and nursing services: 1.0\n",
      "953 developing algorithms to detect earliest signs of covid-19 from biometric smartwatch data: 1.0\n",
      "954 top 10 iot applications in 2020: 1.0\n",
      "956 henry schein amends and extends financing facilities: 1.0\n",
      "957 health2sync partners with sanofi to deliver a digital solution for diabetes patients & care providers: 1.0\n",
      "959 some burger king stores are testing new solution to one of the chain's most problematic menu items – and the tech company behind it wants mcdonald's to take note: 1.0\n",
      "962 yeastar offers free remote working solutions to help smes combat covid-19: 1.0\n",
      "971 medidata partners with cti for remote source review of clinical trials in response to covid-19: 1.0\n",
      "972 7 innovative ideas for brick-and-mortar businesses reopening after lockdown: 1.0\n",
      "977 lg air purifier mask makes breathing easy: 1.0\n",
      "979 wi-fi and the pandemic: how to support access for all: 1.0\n",
      "980 10 new fitness apps and physical health companies to try out at home: 1.0\n",
      "983 in-store device ensures social-distancing: 1.0\n",
      "986 despite covid-19 crisis, microsoft launches biodiversity effort with “planetary computer”: 1.0\n",
      "990 5 ways to reduce customer churn for saas in a recession: 1.0\n"
     ]
    }
   ],
   "source": [
    "for i in range(len(data['Title'])):\n",
    "    if result[i] == 1.0:\n",
    "        print(f\"{i} {data['Title'][i]}: {result[i]}\")"
   ]
  },
  {
   "cell_type": "markdown",
   "metadata": {},
   "source": [
    "# Save Datafram"
   ]
  },
  {
   "cell_type": "code",
   "execution_count": 45,
   "metadata": {
    "pycharm": {
     "is_executing": true
    }
   },
   "outputs": [
    {
     "data": {
      "text/html": [
       "<div>\n",
       "<style scoped>\n",
       "    .dataframe tbody tr th:only-of-type {\n",
       "        vertical-align: middle;\n",
       "    }\n",
       "\n",
       "    .dataframe tbody tr th {\n",
       "        vertical-align: top;\n",
       "    }\n",
       "\n",
       "    .dataframe thead th {\n",
       "        text-align: right;\n",
       "    }\n",
       "</style>\n",
       "<table border=\"1\" class=\"dataframe\">\n",
       "  <thead>\n",
       "    <tr style=\"text-align: right;\">\n",
       "      <th></th>\n",
       "      <th>Title</th>\n",
       "      <th>Relevant</th>\n",
       "    </tr>\n",
       "  </thead>\n",
       "  <tbody>\n",
       "    <tr>\n",
       "      <th>0</th>\n",
       "      <td>post covid-19, the answer is digital transform...</td>\n",
       "      <td>1.0</td>\n",
       "    </tr>\n",
       "    <tr>\n",
       "      <th>1</th>\n",
       "      <td>investing in the end-to-end value that 3d prin...</td>\n",
       "      <td>1.0</td>\n",
       "    </tr>\n",
       "    <tr>\n",
       "      <th>2</th>\n",
       "      <td>best practices for managing remote customer su...</td>\n",
       "      <td>1.0</td>\n",
       "    </tr>\n",
       "    <tr>\n",
       "      <th>3</th>\n",
       "      <td>real-time customer engagement and omnichannel ...</td>\n",
       "      <td>1.0</td>\n",
       "    </tr>\n",
       "    <tr>\n",
       "      <th>4</th>\n",
       "      <td>lucro deploys small business lending app to sp...</td>\n",
       "      <td>1.0</td>\n",
       "    </tr>\n",
       "  </tbody>\n",
       "</table>\n",
       "</div>"
      ],
      "text/plain": [
       "                                               Title  Relevant\n",
       "0  post covid-19, the answer is digital transform...       1.0\n",
       "1  investing in the end-to-end value that 3d prin...       1.0\n",
       "2  best practices for managing remote customer su...       1.0\n",
       "3  real-time customer engagement and omnichannel ...       1.0\n",
       "4  lucro deploys small business lending app to sp...       1.0"
      ]
     },
     "execution_count": 45,
     "metadata": {},
     "output_type": "execute_result"
    }
   ],
   "source": [
    "columns = [\"Title\", \"Relevant\"]\n",
    "relevant_articles = [[data[\"Title\"][i], result[i]] for i in range(len(data[\"Title\"])) if result[i] == 1.0]\n",
    "relevant_articles = pd.DataFrame(relevant_articles, columns = columns)\n",
    "relevant_articles.head()"
   ]
  }
 ],
 "metadata": {
  "kernelspec": {
   "display_name": "Python 3",
   "language": "python",
   "name": "python3"
  },
  "language_info": {
   "codemirror_mode": {
    "name": "ipython",
    "version": 3
   },
   "file_extension": ".py",
   "mimetype": "text/x-python",
   "name": "python",
   "nbconvert_exporter": "python",
   "pygments_lexer": "ipython3",
   "version": "3.8.3"
  }
 },
 "nbformat": 4,
 "nbformat_minor": 4
}
